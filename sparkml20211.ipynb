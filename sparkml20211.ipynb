{
 "cells": [
  {
   "cell_type": "markdown",
   "metadata": {},
   "source": [
    "# Big Data Project 20211"
   ]
  },
  {
   "cell_type": "code",
   "execution_count": 1,
   "metadata": {},
   "outputs": [],
   "source": [
    "from src.spark_helper import Spark\n",
    "from configs import configs\n",
    "from src.data_helper import Processor\n",
    "from src.spark_mlib import SparkMLib\n",
    "import pandas as pd\n",
    "from matplotlib import pyplot as plt\n",
    "import seaborn as sns\n",
    "from pyspark.ml.evaluation import MulticlassClassificationEvaluator"
   ]
  },
  {
   "cell_type": "code",
   "execution_count": 2,
   "metadata": {},
   "outputs": [],
   "source": [
    "''' Initialize Spark and Processor '''\n",
    "proc = Processor()\n",
    "spark = Spark()\n",
    "smlib = SparkMLib()"
   ]
  },
  {
   "cell_type": "code",
   "execution_count": 3,
   "metadata": {},
   "outputs": [
    {
     "name": "stderr",
     "output_type": "stream",
     "text": [
      "21/12/18 02:45:00 WARN Utils: Your hostname, NeiH resolves to a loopback address: 127.0.1.1; using 192.168.1.9 instead (on interface wlp3s0)\n",
      "21/12/18 02:45:00 WARN Utils: Set SPARK_LOCAL_IP if you need to bind to another address\n",
      "Using Spark's default log4j profile: org/apache/spark/log4j-defaults.properties\n",
      "Setting default log level to \"WARN\".\n",
      "To adjust logging level use sc.setLogLevel(newLevel). For SparkR, use setLogLevel(newLevel).\n",
      "21/12/18 02:45:01 WARN NativeCodeLoader: Unable to load native-hadoop library for your platform... using builtin-java classes where applicable\n",
      "/home/hienvq/anaconda3/envs/ds/lib/python3.9/site-packages/pyspark/sql/context.py:77: FutureWarning: Deprecated in 3.0.0. Use SparkSession.builder.getOrCreate() instead.\n",
      "  warnings.warn(\n"
     ]
    },
    {
     "name": "stdout",
     "output_type": "stream",
     "text": [
      "Spark Context Created\n"
     ]
    },
    {
     "data": {
      "text/plain": [
       "True"
      ]
     },
     "execution_count": 3,
     "metadata": {},
     "output_type": "execute_result"
    }
   ],
   "source": [
    "''' Connect to Spark '''\n",
    "spark.connect(configs['spark'])"
   ]
  },
  {
   "cell_type": "markdown",
   "metadata": {},
   "source": [
    "## Data Collection"
   ]
  },
  {
   "cell_type": "code",
   "execution_count": 4,
   "metadata": {},
   "outputs": [],
   "source": [
    "''' Load data '''\n",
    "data = pd.read_csv(configs['data-path'] + configs['data-file'])"
   ]
  },
  {
   "cell_type": "code",
   "execution_count": 5,
   "metadata": {},
   "outputs": [],
   "source": [
    "''' preprocessing '''\n",
    "data['review'] = data['review'].apply(lambda x: proc.finalpreprocess(x))\n",
    "one_hot_labels = proc.one_hot_encode(data['sentiment'].unique())\n",
    "data['label'] = data['sentiment'].apply(lambda x: one_hot_labels[x])"
   ]
  },
  {
   "cell_type": "code",
   "execution_count": 6,
   "metadata": {},
   "outputs": [
    {
     "data": {
      "image/png": "[encoded data removed]",
      "text/plain": [
       "<Figure size 800x400 with 1 Axes>"
      ]
     },
     "metadata": {
      "needs_background": "light"
     },
     "output_type": "display_data"
    },
    {
     "name": "stdout",
     "output_type": "stream",
     "text": [
      "                                       review sentiment  label\n",
      "0                           mainly pay bottle  positive      1\n",
      "1  mislead advertisement conspicuous business  negative      0\n",
      "2                                    water ok  negative      0\n",
      "3                                  love water  positive      1\n",
      "4                                      usable  positive      1\n"
     ]
    }
   ],
   "source": [
    "\n",
    "''' visualize data '''\n",
    "plt.figure(figsize = (8,4), dpi = 100)\n",
    "sns.countplot(data = data, x = 'label')\n",
    "# plt.xticks(rotation = 90)\n",
    "plt.show()\n",
    "print(data.head())"
   ]
  },
  {
   "cell_type": "code",
   "execution_count": 7,
   "metadata": {},
   "outputs": [],
   "source": [
    "''' Convert data to Spark DataFrame '''\n",
    "data = spark.pandas_to_df(data)\n",
    "train, test = data.randomSplit([0.8, 0.2], seed=12345)"
   ]
  },
  {
   "cell_type": "code",
   "execution_count": 8,
   "metadata": {},
   "outputs": [],
   "source": [
    "''' Create model and pipeline '''\n",
    "model, pramGrid = smlib.get_model('lr')\n",
    "tokenizer = smlib.get_tokenizer('review', 'words')\n",
    "pipeline = smlib.get_pipeline(model, tokenizer, pramGrid)"
   ]
  },
  {
   "cell_type": "markdown",
   "metadata": {},
   "source": [
    "## Fit Model"
   ]
  },
  {
   "cell_type": "code",
   "execution_count": 9,
   "metadata": {},
   "outputs": [
    {
     "name": "stderr",
     "output_type": "stream",
     "text": [
      "21/12/18 02:45:31 WARN InstanceBuilder$NativeBLAS: Failed to load implementation from:dev.ludovic.netlib.blas.JNIBLAS\n",
      "21/12/18 02:45:31 WARN InstanceBuilder$NativeBLAS: Failed to load implementation from:dev.ludovic.netlib.blas.ForeignLinkerBLAS\n",
      "21/12/18 02:45:31 WARN BLAS: Failed to load implementation from: com.github.fommil.netlib.NativeSystemBLAS\n",
      "21/12/18 02:45:31 WARN BLAS: Failed to load implementation from: com.github.fommil.netlib.NativeRefBLAS\n"
     ]
    }
   ],
   "source": [
    "model_pipeline = pipeline.fit(train)"
   ]
  },
  {
   "cell_type": "markdown",
   "metadata": {},
   "source": [
    "## Evaluate Model"
   ]
  },
  {
   "cell_type": "code",
   "execution_count": 10,
   "metadata": {},
   "outputs": [
    {
     "name": "stdout",
     "output_type": "stream",
     "text": [
      "+--------------------+---------+-----+----------+\n",
      "|              review|sentiment|label|prediction|\n",
      "+--------------------+---------+-----+----------+\n",
      "|  1 month fall apart| negative|    0|       1.0|\n",
      "|5 10 235 lb shirt...| positive|    1|       1.0|\n",
      "|              5 star| positive|    1|       1.0|\n",
      "|able download goo...| negative|    0|       0.0|\n",
      "|acer chrom notebo...| positive|    1|       1.0|\n",
      "|    alienware m15 r4| positive|    1|       0.0|\n",
      "|         almost love| negative|    0|       0.0|\n",
      "|amazing quality a...| positive|    1|       1.0|\n",
      "|awesome birthday ...| positive|    1|       1.0|\n",
      "|awesome gift warr...| positive|    1|       1.0|\n",
      "|awesome little la...| positive|    1|       1.0|\n",
      "|          back black| negative|    0|       0.0|\n",
      "|bad arm computer buy| negative|    0|       0.0|\n",
      "|      bad experience| negative|    0|       0.0|\n",
      "|      bad many level| negative|    0|       0.0|\n",
      "|         bad quality| negative|    0|       0.0|\n",
      "|bad shirt ever ow...| negative|    0|       0.0|\n",
      "|bastante conveniente| positive|    1|       1.0|\n",
      "| battery life 2 hour| positive|    1|       0.0|\n",
      "|      battery screen| positive|    1|       0.0|\n",
      "+--------------------+---------+-----+----------+\n",
      "only showing top 20 rows\n",
      "\n",
      "Test Error = 0.218694\n"
     ]
    }
   ],
   "source": [
    "predictions = model_pipeline.transform(test)\n",
    "# Select example rows to display.\n",
    "predictions.select(\"review\", \"sentiment\", \"label\", \"prediction\").show(20)\n",
    "# Select (prediction, true label) and compute test error.\n",
    "evaluator = MulticlassClassificationEvaluator(\n",
    "    labelCol=\"label\", predictionCol=\"prediction\", metricName=\"accuracy\")\n",
    "accuracy = evaluator.evaluate(predictions)\n",
    "print(\"Test Error = %g\" % (1.0 - accuracy))"
   ]
  },
  {
   "cell_type": "code",
   "execution_count": 11,
   "metadata": {},
   "outputs": [
    {
     "data": {
      "text/plain": [
       "' Close Spark '"
      ]
     },
     "execution_count": 11,
     "metadata": {},
     "output_type": "execute_result"
    }
   ],
   "source": [
    "''' Close Spark '''\n",
    "# spark.close()"
   ]
  }
 ],
 "metadata": {
  "interpreter": {
   "hash": "15d21c04e104a7fd0ffe6fbe0eb4d71583944ad5de2575e56bdd4886a5c334cc"
  },
  "kernelspec": {
   "display_name": "Python 3.9.7 64-bit ('ai': conda)",
   "name": "python3"
  },
  "language_info": {
   "codemirror_mode": {
    "name": "ipython",
    "version": 3
   },
   "file_extension": ".py",
   "mimetype": "text/x-python",
   "name": "python",
   "nbconvert_exporter": "python",
   "pygments_lexer": "ipython3",
   "version": "3.9.7"
  }
 },
 "nbformat": 4,
 "nbformat_minor": 2
}
