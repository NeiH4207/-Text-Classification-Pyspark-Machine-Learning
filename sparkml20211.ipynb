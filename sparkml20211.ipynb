{
 "cells": [
  {
   "cell_type": "markdown",
   "metadata": {},
   "source": [
    "# Big Data Project 20211"
   ]
  },
  {
   "cell_type": "code",
   "execution_count": 1,
   "metadata": {},
   "outputs": [],
   "source": [
    "import sparknlp\n",
    "\n",
    "spark = sparknlp.start()"
   ]
  },
  {
   "cell_type": "code",
   "execution_count": 2,
   "metadata": {},
   "outputs": [
    {
     "data": {
      "text/plain": [
       "'3.1.2'"
      ]
     },
     "execution_count": 2,
     "metadata": {},
     "output_type": "execute_result"
    }
   ],
   "source": [
    "sparknlp.version()\n",
    "spark.version"
   ]
  },
  {
   "cell_type": "code",
   "execution_count": 2,
   "metadata": {},
   "outputs": [
    {
     "name": "stderr",
     "output_type": "stream",
     "text": [
      "                                                                                \r"
     ]
    }
   ],
   "source": [
    "# dataset = spark.read \\\n",
    "#       .option(\"header\", True) \\\n",
    "#       .json(\"data/Prime_Pantry.json\")\n",
    "dataset = spark.read \\\n",
    "      .option(\"header\", True) \\\n",
    "      .option(\"inferSchema\", True) \\\n",
    "      .option('quote', '\"') \\\n",
    "      .option('escape', '\"') \\\n",
    "      .csv(\"data/IMDB.csv\")\n",
    "      "
   ]
  },
  {
   "cell_type": "code",
   "execution_count": 3,
   "metadata": {},
   "outputs": [
    {
     "name": "stdout",
     "output_type": "stream",
     "text": [
      "+--------+--------------------+\n",
      "| overall|          reviewText|\n",
      "+--------+--------------------+\n",
      "|positive|One of the other ...|\n",
      "|positive|A wonderful littl...|\n",
      "|positive|I thought this wa...|\n",
      "|negative|Basically there's...|\n",
      "|positive|Petter Mattei's \"...|\n",
      "+--------+--------------------+\n",
      "only showing top 5 rows\n",
      "\n"
     ]
    }
   ],
   "source": [
    "dataset = dataset[['overall', 'reviewText']]\n",
    "dataset.show(5)"
   ]
  },
  {
   "cell_type": "code",
   "execution_count": 5,
   "metadata": {},
   "outputs": [
    {
     "name": "stderr",
     "output_type": "stream",
     "text": [
      "                                                                                \r"
     ]
    },
    {
     "name": "stdout",
     "output_type": "stream",
     "text": [
      "+--------+-----+\n",
      "| overall|count|\n",
      "+--------+-----+\n",
      "|positive|25000|\n",
      "|negative|25000|\n",
      "+--------+-----+\n",
      "\n"
     ]
    },
    {
     "name": "stderr",
     "output_type": "stream",
     "text": [
      "                                                                                \r"
     ]
    }
   ],
   "source": [
    "# filter rows with include positive and negative reviews\n",
    "dataset = dataset.filter(dataset.overall.isin([\"positive\", \"negative\"]))\n",
    "# count positive and negative reviews\n",
    "dataset.groupBy('overall').count().show()"
   ]
  },
  {
   "cell_type": "code",
   "execution_count": 11,
   "metadata": {},
   "outputs": [
    {
     "name": "stdout",
     "output_type": "stream",
     "text": [
      "+-------+--------------------+-----+\n",
      "|overall|          reviewText|label|\n",
      "+-------+--------------------+-----+\n",
      "|    5.0|       Good clinging|    1|\n",
      "|    4.0|Fantastic buy and...|    1|\n",
      "|    4.0|                  ok|    1|\n",
      "|    3.0|Saran Cling Plus ...|    0|\n",
      "|    4.0|This is my go to ...|    1|\n",
      "+-------+--------------------+-----+\n",
      "only showing top 5 rows\n",
      "\n"
     ]
    }
   ],
   "source": [
    "from pyspark.sql import functions as F\n",
    "# apply overall > 3.0 to positive reviews, else negative\n",
    "dataset = dataset.withColumn('label', F.when(F.col('overall') > 3.0, 'positive').otherwise('negative'))\n",
    "dataset.show(5)\n",
    "# count positive and negative reviews\n",
    "dataset.groupBy('label').count().show()"
   ]
  },
  {
   "cell_type": "code",
   "execution_count": 4,
   "metadata": {},
   "outputs": [],
   "source": [
    "from pyspark.ml.feature import RegexTokenizer, StopWordsRemover, CountVectorizer\n",
    "from pyspark.ml.classification import LogisticRegression\n",
    "# regular expression tokenizer\n",
    "regexTokenizer = RegexTokenizer(inputCol=\"reviewText\", outputCol=\"words\", pattern=\"\\\\W\")\n",
    "# stop words\n",
    "add_stopwords = [\"http\",\"https\",\"amp\",\"rt\",\"t\",\"c\",\"the\"] \n",
    "stopwordsRemover = StopWordsRemover(inputCol=\"words\", outputCol=\"filtered\").setStopWords(add_stopwords)\n",
    "# bag of words count\n",
    "countVectors = CountVectorizer(inputCol=\"filtered\", outputCol=\"features\", vocabSize=10000, minDF=5)"
   ]
  },
  {
   "cell_type": "code",
   "execution_count": 5,
   "metadata": {},
   "outputs": [
    {
     "name": "stderr",
     "output_type": "stream",
     "text": [
      "                                                                                \r"
     ]
    },
    {
     "name": "stdout",
     "output_type": "stream",
     "text": [
      "+--------+--------------------+--------------------+--------------------+--------------------+-----+\n",
      "| overall|          reviewText|               words|            filtered|            features|label|\n",
      "+--------+--------------------+--------------------+--------------------+--------------------+-----+\n",
      "|positive|One of the other ...|[one, of, the, ot...|[one, of, other, ...|(10000,[0,1,2,3,4...|  1.0|\n",
      "|positive|A wonderful littl...|[a, wonderful, li...|[a, wonderful, li...|(10000,[0,1,2,3,4...|  1.0|\n",
      "|positive|I thought this wa...|[i, thought, this...|[i, thought, this...|(10000,[0,1,2,3,4...|  1.0|\n",
      "|negative|Basically there's...|[basically, there...|[basically, there...|(10000,[0,1,2,3,4...|  0.0|\n",
      "|positive|Petter Mattei's \"...|[petter, mattei, ...|[petter, mattei, ...|(10000,[0,1,2,3,4...|  1.0|\n",
      "+--------+--------------------+--------------------+--------------------+--------------------+-----+\n",
      "only showing top 5 rows\n",
      "\n"
     ]
    }
   ],
   "source": [
    "from pyspark.ml import Pipeline\n",
    "from pyspark.ml.feature import OneHotEncoder, StringIndexer, VectorAssembler\n",
    "label_stringIdx = StringIndexer(inputCol = \"overall\", outputCol = \"label\")\n",
    "pipeline = Pipeline(stages=[regexTokenizer, stopwordsRemover, countVectors, label_stringIdx])\n",
    "# Fit the pipeline to training documents.\n",
    "pipelineFit = pipeline.fit(dataset)\n",
    "dataset = pipelineFit.transform(dataset)\n",
    "dataset.show(5)"
   ]
  },
  {
   "cell_type": "code",
   "execution_count": 6,
   "metadata": {},
   "outputs": [],
   "source": [
    "# set seed for reproducibility\n",
    "(trainingData, testData) = dataset.randomSplit([0.5, 0.5], seed = 100)\n",
    "# print(\"Training Dataset Count: \" + str(trainingData.count()))\n",
    "# print(\"Test Dataset Count: \" + str(testData.count()))"
   ]
  },
  {
   "cell_type": "code",
   "execution_count": 7,
   "metadata": {},
   "outputs": [
    {
     "name": "stderr",
     "output_type": "stream",
     "text": [
      "22/01/01 05:19:24 WARN BLAS: Failed to load implementation from: com.github.fommil.netlib.NativeSystemBLAS\n",
      "22/01/01 05:19:24 WARN BLAS: Failed to load implementation from: com.github.fommil.netlib.NativeRefBLAS\n",
      "                                                                                \r"
     ]
    }
   ],
   "source": [
    "lr = LogisticRegression(maxIter=20, regParam=0.3, elasticNetParam=0)\n",
    "lrModel = lr.fit(trainingData)"
   ]
  },
  {
   "cell_type": "code",
   "execution_count": 8,
   "metadata": {},
   "outputs": [
    {
     "name": "stderr",
     "output_type": "stream",
     "text": [
      "[Stage 35:===========================================>              (3 + 1) / 4]\r"
     ]
    },
    {
     "name": "stdout",
     "output_type": "stream",
     "text": [
      "+------------------------------+--------+------------------------------+-----+----------+\n",
      "|                    reviewText| overall|                   probability|label|prediction|\n",
      "+------------------------------+--------+------------------------------+-----+----------+\n",
      "|*** Warning - this review c...|negative|[0.999999432382827,5.676171...|  0.0|       0.0|\n",
      "|All I could think while wat...|negative|[0.9999986788311754,1.32116...|  0.0|       0.0|\n",
      "|Pier Paolo Pasolini, or Pee...|negative|[0.9999981302138441,1.86978...|  0.0|       0.0|\n",
      "|Zombi 3 starts as a group o...|negative|[0.9999977403304414,2.25966...|  0.0|       0.0|\n",
      "|Plankton, or Creatures from...|negative|[0.9999933154370028,6.68456...|  0.0|       0.0|\n",
      "|Serum starts as Eddie (Dere...|negative|[0.9999905481682364,9.45183...|  0.0|       0.0|\n",
      "|Interferencia starts as une...|negative|[0.9999892957177893,1.07042...|  0.0|       0.0|\n",
      "|...the first? Killjoy 1. Bu...|negative|[0.9999854888488539,1.45111...|  0.0|       0.0|\n",
      "|Waitress: Honey, here's the...|negative|[0.9999851843852937,1.48156...|  0.0|       0.0|\n",
      "|Holy crap this movie was ba...|negative|[0.9999814849795413,1.85150...|  0.0|       0.0|\n",
      "+------------------------------+--------+------------------------------+-----+----------+\n",
      "only showing top 10 rows\n",
      "\n"
     ]
    },
    {
     "name": "stderr",
     "output_type": "stream",
     "text": [
      "                                                                                \r"
     ]
    }
   ],
   "source": [
    "\n",
    "predictions = lrModel.transform(testData)\n",
    "predictions.filter(predictions['prediction'] == 0) \\\n",
    "    .select(\"reviewText\",\"overall\",\"probability\",\"label\",\"prediction\") \\\n",
    "    .orderBy(\"probability\", ascending=False) \\\n",
    "    .show(n = 10, truncate = 30)"
   ]
  },
  {
   "cell_type": "markdown",
   "metadata": {},
   "source": [
    "## Evaluate Model"
   ]
  },
  {
   "cell_type": "code",
   "execution_count": 9,
   "metadata": {},
   "outputs": [
    {
     "name": "stderr",
     "output_type": "stream",
     "text": [
      "                                                                                \r"
     ]
    },
    {
     "data": {
      "text/plain": [
       "0.8942080954580265"
      ]
     },
     "execution_count": 9,
     "metadata": {},
     "output_type": "execute_result"
    }
   ],
   "source": [
    "from pyspark.ml.evaluation import MulticlassClassificationEvaluator\n",
    "evaluator = MulticlassClassificationEvaluator(predictionCol=\"prediction\")\n",
    "evaluator.evaluate(predictions)"
   ]
  },
  {
   "cell_type": "code",
   "execution_count": 11,
   "metadata": {},
   "outputs": [
    {
     "data": {
      "text/plain": [
       "' Close Spark '"
      ]
     },
     "execution_count": 11,
     "metadata": {},
     "output_type": "execute_result"
    }
   ],
   "source": [
    "''' Close Spark '''\n",
    "# spark.close()"
   ]
  }
 ],
 "metadata": {
  "interpreter": {
   "hash": "15d21c04e104a7fd0ffe6fbe0eb4d71583944ad5de2575e56bdd4886a5c334cc"
  },
  "kernelspec": {
   "display_name": "Python 3.9.7 64-bit ('ai': conda)",
   "name": "python3"
  },
  "language_info": {
   "codemirror_mode": {
    "name": "ipython",
    "version": 3
   },
   "file_extension": ".py",
   "mimetype": "text/x-python",
   "name": "python",
   "nbconvert_exporter": "python",
   "pygments_lexer": "ipython3",
   "version": "3.9.7"
  }
 },
 "nbformat": 4,
 "nbformat_minor": 2
}
